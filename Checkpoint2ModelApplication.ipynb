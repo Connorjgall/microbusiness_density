{
 "cells": [
  {
   "cell_type": "code",
   "execution_count": 4,
   "id": "6943f78f",
   "metadata": {},
   "outputs": [],
   "source": [
    "import pandas as pd\n",
    "from sklearn.linear_model import LinearRegression\n",
    "from sklearn.model_selection import train_test_split\n",
    "from sklearn.metrics import mean_squared_error, r2_score\n",
    "\n",
    "\n",
    "mbd_file = 'mbd_train.csv'\n",
    "mbd = pd.read_csv(mbd_file)\n",
    "mbd['date_order'] = mbd.groupby(['cfips']).rank()['first_day_of_month'] - 1\n",
    "mbd = mbd.rename(columns={'microbusiness_density':'mbd'})"
   ]
  },
  {
   "cell_type": "code",
   "execution_count": 5,
   "id": "da117481",
   "metadata": {},
   "outputs": [],
   "source": [
    "# get the cfips\n",
    "cfips = pd.unique(mbd['cfips'])\n",
    "# use 20 months of training to find the next months data\n",
    "train_number_months = 20\n",
    "# get a count of how many records we will create per cfip\n",
    "iterations_per_cfip = max(mbd['date_order']) - train_number_months\n",
    "# create dataframe to populate\n",
    "mbd_exploded = pd.DataFrame(columns=['cfips','iter'] + list(range(0,train_number_months)))\n",
    "# pivot the entire thing\n",
    "mbd_pivotted = mbd.pivot(index='cfips',columns='date_order',values='mbd')\n",
    "# loop thru each cfip\n",
    "for cfip in cfips[:100]:\n",
    "    # for unique iteration of months to use as variable 1-20\n",
    "    for i in range(0, int(iterations_per_cfip)):\n",
    "        # get the columns we need\n",
    "        columns_to_grab = list(range(i,i+train_number_months))\n",
    "        # grab those columns from the pivotted df\n",
    "        to_append = mbd_pivotted.loc[[cfip],columns_to_grab]\n",
    "        # add a row number for that iteration of the cfip for record keeping sake\n",
    "        to_append['iter'] = i\n",
    "        # crazy way of just renaming the columns to grab to a list of range(0-2o)\n",
    "        to_append = to_append.rename(columns=dict(list(zip(columns_to_grab, list(range(0,train_number_months))))))\n",
    "        # reset index to get 'cfips' into the dataframe\n",
    "        to_append = to_append.reset_index(drop=False)\n",
    "        # mbd_exploded = mbd_exploded.append(to_append, ignore_index=True)\n",
    "        mbd_exploded = pd.concat([mbd_exploded, to_append], axis=0)\n"
   ]
  },
  {
   "cell_type": "code",
   "execution_count": 10,
   "id": "3f6572bb",
   "metadata": {},
   "outputs": [
    {
     "name": "stdout",
     "output_type": "stream",
     "text": [
      "Coefficients: \n",
      " [-1.50104441e-01  1.54662417e-01 -3.38808310e-02  2.58216848e-02\n",
      "  1.97360516e-03  1.12163534e-01 -1.41158702e-01  2.27010400e-01\n",
      " -2.66645988e-01  4.72083849e-02  1.26818616e-01 -2.78760104e-01\n",
      "  1.22793098e-01  2.09942975e-01 -1.05562102e-01 -8.14811455e-04\n",
      " -2.86079859e-02  6.50990003e-02  9.06912209e-01]\n",
      "Mean squared error: 0.02418465\n",
      "Coefficient of determination: 0.99510087\n"
     ]
    }
   ],
   "source": [
    "\n",
    "# get rid of cfips & iter\n",
    "X = mbd_exploded.iloc[:,2:].to_numpy()\n",
    "y = X[:,-1]\n",
    "X = X[:,:-1]\n",
    "X_train, X_test, y_train, y_test = train_test_split(X, y, test_size=0.33)\n",
    "regr = LinearRegression()\n",
    "regr.fit(X_train, y_train)\n",
    "y_pred = regr.predict(X_test)\n",
    "\n",
    "print(\"Coefficients: \\n\", regr.coef_)\n",
    "# The mean squared error\n",
    "print(\"Mean squared error: %.8f\" % mean_squared_error(y_test, y_pred))\n",
    "# The coefficient of determination: 1 is perfect prediction\n",
    "print(\"Coefficient of determination: %.8f\" % r2_score(y_test, y_pred))\n"
   ]
  },
  {
   "cell_type": "code",
   "execution_count": 11,
   "id": "814cbca0",
   "metadata": {},
   "outputs": [
    {
     "name": "stdout",
     "output_type": "stream",
     "text": [
      "Coefficients: \n",
      " [-1.50104441e-01  1.54662417e-01 -3.38808310e-02  2.58216848e-02\n",
      "  1.97360516e-03  1.12163534e-01 -1.41158702e-01  2.27010400e-01\n",
      " -2.66645988e-01  4.72083849e-02  1.26818616e-01 -2.78760104e-01\n",
      "  1.22793098e-01  2.09942975e-01 -1.05562102e-01 -8.14811455e-04\n",
      " -2.86079859e-02  6.50990003e-02  9.06912209e-01]\n",
      "Mean squared error: 0.02402910\n",
      "Coefficient of determination: 0.99513239\n"
     ]
    }
   ],
   "source": [
    "from sklearn.linear_model import Ridge\n",
    "clf = Ridge(alpha=0.5)\n",
    "clf.fit(X_train, y_train)\n",
    "y_pred_ridge = clf.predict(X_test)\n",
    "\n",
    "print(\"Coefficients: \\n\", regr.coef_)\n",
    "# The mean squared error\n",
    "print(\"Mean squared error: %.8f\" % mean_squared_error(y_test, y_pred_ridge))\n",
    "# The coefficient of determination: 1 is perfect prediction\n",
    "print(\"Coefficient of determination: %.8f\" % r2_score(y_test, y_pred_ridge))"
   ]
  },
  {
   "cell_type": "code",
   "execution_count": 12,
   "id": "1f7ef5bb",
   "metadata": {},
   "outputs": [
    {
     "name": "stdout",
     "output_type": "stream",
     "text": [
      "Coefficients: \n",
      " [-1.50104441e-01  1.54662417e-01 -3.38808310e-02  2.58216848e-02\n",
      "  1.97360516e-03  1.12163534e-01 -1.41158702e-01  2.27010400e-01\n",
      " -2.66645988e-01  4.72083849e-02  1.26818616e-01 -2.78760104e-01\n",
      "  1.22793098e-01  2.09942975e-01 -1.05562102e-01 -8.14811455e-04\n",
      " -2.86079859e-02  6.50990003e-02  9.06912209e-01]\n",
      "Mean squared error: 0.02436339\n",
      "Coefficient of determination: 0.99506467\n"
     ]
    }
   ],
   "source": [
    "\n",
    "from sklearn.kernel_ridge import KernelRidge\n",
    "kern = KernelRidge(alpha=0.5)\n",
    "kern.fit(X_train, y_train)\n",
    "y_pred_kernel = kern.predict(X_test)\n",
    "\n",
    "print(\"Coefficients: \\n\", regr.coef_)\n",
    "# The mean squared error\n",
    "print(\"Mean squared error: %.8f\" % mean_squared_error(y_test, y_pred_kernel))\n",
    "# The coefficient of determination: 1 is perfect prediction\n",
    "print(\"Coefficient of determination: %.8f\" % r2_score(y_test, y_pred_kernel))"
   ]
  },
  {
   "cell_type": "code",
   "execution_count": null,
   "id": "7d587755",
   "metadata": {},
   "outputs": [],
   "source": []
  }
 ],
 "metadata": {
  "kernelspec": {
   "display_name": "Python 3 (ipykernel)",
   "language": "python",
   "name": "python3"
  },
  "language_info": {
   "codemirror_mode": {
    "name": "ipython",
    "version": 3
   },
   "file_extension": ".py",
   "mimetype": "text/x-python",
   "name": "python",
   "nbconvert_exporter": "python",
   "pygments_lexer": "ipython3",
   "version": "3.8.12"
  }
 },
 "nbformat": 4,
 "nbformat_minor": 5
}
