{
 "cells": [
  {
   "cell_type": "code",
   "execution_count": 4,
   "id": "4bedf55a",
   "metadata": {},
   "outputs": [],
   "source": [
    "import pandas as pd\n",
    "from sklearn.linear_model import LinearRegression\n",
    "from sklearn.model_selection import train_test_split\n",
    "from sklearn.metrics import mean_squared_error, r2_score\n",
    "\n",
    "\n",
    "mbd_file = 'mbd_train.csv'\n",
    "mbd = pd.read_csv(mbd_file)\n",
    "mbd['date_order'] = mbd.groupby(['cfips']).rank()['first_day_of_month'] - 1\n",
    "mbd = mbd.rename(columns={'microbusiness_density':'mbd'})"
   ]
  },
  {
   "cell_type": "code",
   "execution_count": 5,
   "id": "b6d2794b",
   "metadata": {},
   "outputs": [],
   "source": [
    "# get the cfips\n",
    "cfips = pd.unique(mbd['cfips'])\n",
    "# use 20 months of training to find the next months data\n",
    "train_number_months = 20\n",
    "# get a count of how many records we will create per cfip\n",
    "iterations_per_cfip = max(mbd['date_order']) - train_number_months\n",
    "# create dataframe to populate\n",
    "mbd_exploded = pd.DataFrame(columns=['cfips','iter'] + list(range(0,train_number_months)))\n",
    "# pivot the entire thing\n",
    "mbd_pivotted = mbd.pivot(index='cfips',columns='date_order',values='mbd')\n",
    "# loop thru each cfip\n",
    "for cfip in cfips[:100]:\n",
    "    # for unique iteration of months to use as variable 1-20\n",
    "    for i in range(0, int(iterations_per_cfip)):\n",
    "        # get the columns we need\n",
    "        columns_to_grab = list(range(i,i+train_number_months))\n",
    "        # grab those columns from the pivotted df\n",
    "        to_append = mbd_pivotted.loc[[cfip],columns_to_grab]\n",
    "        # add a row number for that iteration of the cfip for record keeping sake\n",
    "        to_append['iter'] = i\n",
    "        # crazy way of just renaming the columns to grab to a list of range(0-2o)\n",
    "        to_append = to_append.rename(columns=dict(list(zip(columns_to_grab, list(range(0,train_number_months))))))\n",
    "        # reset index to get 'cfips' into the dataframe\n",
    "        to_append = to_append.reset_index(drop=False)\n",
    "        # mbd_exploded = mbd_exploded.append(to_append, ignore_index=True)\n",
    "        mbd_exploded = pd.concat([mbd_exploded, to_append], axis=0)\n"
   ]
  },
  {
   "cell_type": "code",
   "execution_count": 6,
   "id": "83db612c",
   "metadata": {},
   "outputs": [
    {
     "name": "stdout",
     "output_type": "stream",
     "text": [
      "Coefficients: \n",
      " [-0.21583413  0.25004917 -0.03252091  0.03475388 -0.03576828  0.13933484\n",
      " -0.12709394  0.07155426 -0.1375314   0.03031207  0.13147216 -0.23807329\n",
      "  0.05671739  0.10503617  0.00273261 -0.0393279  -0.02305061  0.05950023\n",
      "  0.95955231]\n",
      "Mean squared error: 0.02\n",
      "Coefficient of determination: 1.00\n"
     ]
    }
   ],
   "source": [
    "\n",
    "# get rid of cfips & iter\n",
    "X = mbd_exploded.iloc[:,2:].to_numpy()\n",
    "y = X[:,-1]\n",
    "X = X[:,:-1]\n",
    "X_train, X_test, y_train, y_test = train_test_split(X, y, test_size=0.33)\n",
    "regr = LinearRegression()\n",
    "regr.fit(X_train, y_train)\n",
    "y_pred = regr.predict(X_test)\n",
    "\n",
    "print(\"Coefficients: \\n\", regr.coef_)\n",
    "# The mean squared error\n",
    "print(\"Mean squared error: %.2f\" % mean_squared_error(y_test, y_pred))\n",
    "# The coefficient of determination: 1 is perfect prediction\n",
    "print(\"Coefficient of determination: %.2f\" % r2_score(y_test, y_pred))\n"
   ]
  },
  {
   "cell_type": "code",
   "execution_count": null,
   "id": "397229f5",
   "metadata": {},
   "outputs": [],
   "source": []
  }
 ],
 "metadata": {
  "kernelspec": {
   "display_name": "Python 3 (ipykernel)",
   "language": "python",
   "name": "python3"
  },
  "language_info": {
   "codemirror_mode": {
    "name": "ipython",
    "version": 3
   },
   "file_extension": ".py",
   "mimetype": "text/x-python",
   "name": "python",
   "nbconvert_exporter": "python",
   "pygments_lexer": "ipython3",
   "version": "3.8.12"
  }
 },
 "nbformat": 4,
 "nbformat_minor": 5
}
